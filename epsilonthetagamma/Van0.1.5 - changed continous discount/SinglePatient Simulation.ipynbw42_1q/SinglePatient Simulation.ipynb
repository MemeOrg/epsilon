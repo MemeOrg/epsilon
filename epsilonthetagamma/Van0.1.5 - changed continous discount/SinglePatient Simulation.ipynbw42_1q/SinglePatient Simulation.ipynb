{
 "cells": [
  {
   "cell_type": "markdown",
   "metadata": {
    "collapsed": true
   },
   "source": [
    "#Van Gestel's Simulation Model (conversion from OHT to POAG) in Python \n",
    "### Single patient simulation\n",
    "Here is the program will only simulate for one single patient. So that we can understand better the simulation internals of the project\n",
    "\n",
    "\n",
    "QALY is calculated based on VFQ score (VFQ-25 questionaire)\n",
    "\n",
    "\n",
    "\n",
    "To prevent the codes from running, we put these code snippets inside the if False statement so that it will never be executed. The codes can only be run from the files."
   ]
  },
  {
   "cell_type": "code",
   "execution_count": 1,
   "metadata": {
    "collapsed": true
   },
   "outputs": [],
   "source": [
    "if False: \n",
    "from PlottingSystemClass import PlottingSystem\n",
    "from SimulationSystemClass import SimulationSystem\n",
    "if __name__ == \"__main__\":\n",
    "    \"\"\" Run the simulation for numberPatientPopulation records\"\"\"\n",
    "    plottingsystem = PlottingSystem(plt)\n",
    "    #order variable is to keep track of the number of plot grids that\n",
    "    #our system is drawing on\n",
    "    order = 1\n",
    "    for i in range(numberPatientPopulation):\n",
    "        sysSimulation = SimulationSystem(3000,\"PatientList/Patients_list_{}.csv\".format(i))\n",
    "        sysSimulation.SystemSimulation()\n",
    "        plottingsystem.plot(sysSimulation,order,i,masterListforReplications)\n",
    "        order += (numberofGraphs*1) \n",
    "        del sysSimulation \n",
    "    print order \n",
    "    csv_dict_writer(\"MList.csv\",field_names,masterListforReplications)"
   ]
  },
  {
   "cell_type": "code",
   "execution_count": null,
   "metadata": {
    "collapsed": true
   },
   "outputs": [],
   "source": []
  }
 ],
 "metadata": {
  "kernelspec": {
   "display_name": "Python 2",
   "language": "python",
   "name": "python2"
  },
  "language_info": {
   "codemirror_mode": {
    "name": "ipython",
    "version": 2
   },
   "file_extension": ".py",
   "mimetype": "text/x-python",
   "name": "python",
   "nbconvert_exporter": "python",
   "pygments_lexer": "ipython2",
   "version": "2.7.9"
  }
 },
 "nbformat": 4,
 "nbformat_minor": 0
}
