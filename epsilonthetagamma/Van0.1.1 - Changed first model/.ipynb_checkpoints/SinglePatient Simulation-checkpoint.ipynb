{
 "cells": [
  {
   "cell_type": "markdown",
   "metadata": {
    "collapsed": true
   },
   "source": [
    "#Van Gestel's Simulation Model (conversion from OHT to POAG) in Python \n",
    "### Single patient simulation\n",
    "To demonstrate the logic of the project, we would simulate one patient, how he move within the system and also how the different methods and procedures change his attributes\n",
    "\n",
    "For a more general overview, it would be elsewhere using either UML activity diagram or sequence diagram. This iPython is more notebook for verification of actual codes' logic \n",
    "\n",
    "To prevent accidental running of codes (and false-alarm error messages), if needs be, some demonstration snippets would be inside the `if False` statement so that it will not be executed. We would indicate these blocks of codes. The corresponding procedures will be imported and run from the **actual** project files"
   ]
  },
  {
   "cell_type": "markdown",
   "metadata": {},
   "source": [
    "#Content \n",
    "####1. `MainProgram.py` file and overall design of the project\n",
    "####2. `PatientClass.py`\n",
    "    2.a. Step 3 inCurredSideEffect\n",
    "    \n",
    "    2.b. Step 5\n",
    "    \n",
    "    2.c  Step 7\n",
    "    \n",
    "####3. `DoctorClass.py`\n",
    "####4. `MedicationBlockClass.py`\n",
    "####5. `Trabeculectomy` and `Implant` objects"
   ]
  },
  {
   "cell_type": "markdown",
   "metadata": {},
   "source": [
    "##1.  `MainProgram.py` file and overall design of the project\n",
    "The main logic of the program resides in `MainProgram.py` file \n",
    "\n",
    "We would take a look at this file first. The codes will not run "
   ]
  },
  {
   "cell_type": "code",
   "execution_count": 1,
   "metadata": {
    "collapsed": false
   },
   "outputs": [],
   "source": [
    "\"\"\"\n",
    "    File: MainProgram.py\n",
    "    [....]\n",
    "\"\"\"\n",
    "\n",
    "#line 40 onwards: \n",
    "if False: \n",
    "        plottingsystem = PlottingSystem(plt)\n",
    "        #order variable is to keep track of the number of plot grids that\n",
    "        #our system is drawing on\n",
    "        order = 1\n",
    "        for i in range(numberPatientPopulation):\n",
    "            sysSimulation = SimulationSystem(3000,\"PatientList/Patients_list_{}.csv\".format(i))\n",
    "            sysSimulation.SystemSimulation()\n",
    "            plottingsystem.plot(sysSimulation,order,i,masterListforReplications)\n",
    "            order += (numberofGraphs*1) \n",
    "            del sysSimulation \n",
    "        print order \n",
    "        csv_dict_writer(\"MList.csv\",field_names,masterListforReplications)"
   ]
  },
  {
   "cell_type": "markdown",
   "metadata": {
    "collapsed": true
   },
   "source": [
    "Each run in the `MainProgram.py` will simulate `numberPatientPopulation` of patients' populations\n",
    "Correspondingly, there will be `numberPatientPopulation` of simulation objects - which are called `sysSimulation` objects here\n",
    "\n",
    "The initial parameters recorded in the **Patients_list_x.csv** file, and is referenced to `sysSimulation` object for actual simulation \n",
    "\n",
    "`plottingsystem` object is created only once for the entire run. And it will handle the plotting of all the `numberPatientPopulation` of runs\n",
    "\n",
    "**Main logic** of the project resides in the `sysSimulation` object and its dependencies, let's take a look at the interface of  `SimulationSystem` object, which is `SystemSimulation` method. "
   ]
  },
  {
   "cell_type": "code",
   "execution_count": 2,
   "metadata": {
    "collapsed": true
   },
   "outputs": [],
   "source": [
    "\"\"\"\n",
    "    File: SimulationSystemClass.py\n",
    "    [.....]\n",
    "\"\"\"\n",
    "\"\"\"Code snippet samples are here\"\"\"\n",
    "#line 54\n",
    "def SystemSimulation (self):\n",
    "        \"\"\"\n",
    "        Read in the initial parameters from file_name\n",
    "        Initiate correct initial parameters for patients\n",
    "        \"\"\"\n",
    "        #read in the records of patients' initial parameters \n",
    "        #specified in the path self.file_name\n",
    "        with open(self.file_name) as f_obj:\n",
    "            self.csv_dict_reader(f_obj)\n",
    "        env = simpy.Environment()   \n",
    "        \n",
    "        for i in range(self.size):\n",
    "            # patients are initialized and added to the patientlist \n",
    "            self.patientlist.append( Patient(env,i,self.monitor,{'IOP':self.list_IOP[i],'MD': self.list_MD[i],\n",
    "            'MDR':self.list_MDR[i],'CumulativeMDR': 0,'IOPTarget': 24,'Age':self.list_Age[i], \n",
    "            'TrabeculectomyIOP': 0,'Death':self.list_Death[i],'Gender': self.list_Gender[i]}))\n",
    "        env.run(until = simulationTime)\n",
    "        self.final_cost_calculate ()"
   ]
  },
  {
   "cell_type": "markdown",
   "metadata": {},
   "source": [
    "This method would first call method `.csv_dict_reader(...)` to obtain the initial patients' parameters and store these parameteres as the `list` object attributes of the `SimulationSystem` object  \n",
    "        \n",
    "Then the method would initialize the patient objects when their corresponding initial parameters from the class attribute lists: `self.list_IOP, self.list_MD`. \n",
    "\n",
    "Patient all receives the env object so that simpy can schedule the simulation. env starts to run using  `env.method`\n",
    "\n",
    "The actual work is done in the **Patient** object, which is discussed below"
   ]
  },
  {
   "cell_type": "markdown",
   "metadata": {},
   "source": [
    "##2. `PatientClass.py` file\n",
    "Each patient is simulated individually of each other\n",
    "\n",
    "Once declared, patient would automatically schedule to be simulated by running command `.action = env.process(self.runSimulation())`\n",
    "\n",
    "Overall general flow of patients in the system can be summarized as follows:\n",
    "\n",
    "    1. Patient visits doctor and have his medical records/treatment changed if there is an incident (side-effect, IOP > Target etc).\n",
    "\n",
    "    2. Patient changes his personal attributes (IOP, MD etc) using these medical attributes \n",
    "\n",
    "    3. Repeat the simulation until patient's death\n",
    "\n",
    "Most of the codes that execute this flow resides in both `PatientClass.py` and `DoctorClass.py` which contain the   **Patient** and **Doctor** module\n",
    "\n",
    "A  visualization of how **Patient** and **Doctor** interact here in the activity diagram:\n",
    "\n",
    "<img src = \"Images/ActivityDiagram1.JPG\">\n",
    "*Figure 1. Logic sequence of patient and doctor interactions*\n",
    "\n",
    "The UML sequence diagram in the documentation would expose the complete API of the project\n",
    "\n",
    "##Now, let's intialize a single patient and see how his attributes are updated throughout the simulation. \n",
    "\n"
   ]
  },
  {
   "cell_type": "code",
   "execution_count": 2,
   "metadata": {
    "collapsed": false
   },
   "outputs": [],
   "source": [
    "\"\"\"Here are objects are imported from the actual project files\"\"\"\n",
    "from PatientClass import Patient\n",
    "from MonitorClass import Monitor\n",
    "import simpy \n",
    "monitor = Monitor(30)\n",
    "env = simpy.Environment()\n",
    "#Our MDR is monthly decrease\n",
    "patient = Patient(env,1,monitor,{'IOP':32,'MD': -2.3,\n",
    "            'MDR':0.02,'CumulativeMDR': 0,'IOPTarget': 24,'Age':67, \n",
    "            'TrabeculectomyIOP': 0,'Death':100,'Gender': 1})\n",
    "\n",
    "\"\"\"We also need to call our doctor to treat the patient\"\"\"\n",
    "from DoctorClass import Doctor\n",
    "doctor = Doctor(patient.Attribute,patient.params,patient.medicalRecords)"
   ]
  },
  {
   "cell_type": "markdown",
   "metadata": {},
   "source": [
    "Let's familiarize with the attributes of **Patient** object. These attributes would be changed during the simulation of the patient, depending on his current medical status. "
   ]
  },
  {
   "cell_type": "code",
   "execution_count": null,
   "metadata": {
    "collapsed": true
   },
   "outputs": [],
   "source": [
    "\"\"\"Here are only demonstration code snippets\"\"\"\n",
    "\n",
    "\"\"\"\n",
    "    File PatientClass.py\n",
    "\"\"\"\n",
    "#line 38 \n",
    "#1. \n",
    "        self.monitor = monitor\n",
    "        \n",
    "        \"\"\"\n",
    "        The 3 lists of patients: \n",
    "                 self.Attribute: personal list containing IOP,MD,Age etc\n",
    "                 self.params: medical parameters \n",
    "                 self.medicalRecords: medical related records\n",
    "        \"\"\"\n",
    "#2. \n",
    "        self.Attribute = Attribute\n",
    "        self.params = {'IOPReduction':0,'time_next_visit': 0,'FirstProgression':0,\n",
    "                       'SecondProgression':0,'VFCountdown':0,\n",
    "                       'SideEffect':0,\n",
    "                       'CurrentTime' : 0, 'Conversion': False,'CurrentMonth':0}\n",
    "        self.medicalRecords = {'PatientVisits': 0, 'MedicationIntake': 0,\n",
    "                               'MedicationCombination':[0,0,0,0,0],\n",
    "                               'CurrentMedicationType':0,'TreatmentOverallStatus': 0,\n",
    "                               'TreatmentBlock': 'A', 'MedicationPath': [0,0,0,0,0],\n",
    "                               'ContinueTreatment':True,\n",
    "                               'NumberVF':0, \n",
    "                               'ExitCode': False,\n",
    "                               'NumberTrabeculectomy':0, 'TrabeculectomySuccess': True,\n",
    "                               'OnTrabeculectomy': False,\n",
    "                               'ImplantSuccess': True, 'OnImplant':False,\n",
    "                               'Cataract' :False,'SurgeryCataract':0,\n",
    "                               'Diagnosed' : False}\n",
    "                               \n",
    "                               \n",
    "        self.QALY = 0"
   ]
  },
  {
   "cell_type": "markdown",
   "metadata": {},
   "source": [
    "The `monitor` object in the `#1` part is used to collect patient's statistics throughout the simulation. We would discuss more of it in appendix **A**\n",
    "\n",
    "The following 4 attributes (in `#2`) are of important concern throughout the simulation. `self.Attribute` is the personal attribute of the patient that contain records of his/her current IOP,MD,Age etc. This attribute is mainly modified by **Patient** object itself. `self.params` and `self.medicalRecords` are mainly modified by **Doctor** object and reflect the changes in treatment plan for the **Patient**\n",
    "\n",
    "`.QALY` is to record the current patient's Quality-of-Life of **Patient** object"
   ]
  },
  {
   "cell_type": "markdown",
   "metadata": {},
   "source": [
    "Let's take a look at the interface  of the **Patient** object - which resides in the `runSimulation` method "
   ]
  },
  {
   "cell_type": "code",
   "execution_count": 2,
   "metadata": {
    "collapsed": false
   },
   "outputs": [],
   "source": [
    "\"\"\"\n",
    "    File PatientClass.py\n",
    "\"\"\"\n",
    "#line 70\n",
    "def  runSimulation (self):\n",
    "        \"\"\"\n",
    "        While patient is still alive: \n",
    "            1. Update Current attributes (either monthly or by visit)\n",
    "            2. Visit doctor\n",
    "            3. From the current medication, incur side effect\n",
    "            4. Calculate current cumulative medical costs incurred\n",
    "            5. Update patient's personal attributes (IOP,MD) from the current medication\n",
    "            6. Time out(delay)\n",
    "            7. Check for conversion and cataract\n",
    "        \"\"\"\n",
    "        while (self.Attribute['Age'] < self.Attribute['Death']):\n",
    "            self.VisitUpdate()\n",
    "            for i in range(int(float(self.params['time_next_visit']))):\n",
    "                self.MonthlyUpdate()\n",
    "        #2. \n",
    "            doctor = Doctor(self.Attribute,self.params,self.medicalRecords)\n",
    "            doctor.ReturnAllDoctorValues()\n",
    "        #3.\n",
    "            self.inCurredSideEffect(doctor)\n",
    "        #4.........\n",
    "        #................................................"
   ]
  },
  {
   "cell_type": "markdown",
   "metadata": {},
   "source": [
    "From the comments of the codes, it implies that steps **2,3,5 and 7** are important to the logic of the model. The other steps are mainly to collect the statistics or keeping the logisitics of the projectp[] - and would be discussed elsewhere in appendix **A**\n",
    "\n",
    "We will go through steps **2 , 3 , 5 , 7** as they are more important to the logic of the project. \n",
    "\n",
    "*Step 2. Visit Doctor* would lead us to a different `python` file. So we will go through *step 2* and `DoctorClass.py` later in part 3. \n",
    "\n",
    "We are then left with `Step 3, Step 5 and Step 7`\n",
    "\n",
    "Using *Figure 1* of our project's **Logic sequence**, here is where we are going to focus on:\n",
    "\n",
    "<img src = \"Images/PatientPart.JPG\">\n",
    "*Figure 2. Patient logic part*\n",
    "\n",
    "\n",
    "##2. a. Step 3: `.inCurredSideEffect` method\n",
    "\n",
    "**Logic/Method**: \n"
   ]
  },
  {
   "cell_type": "code",
   "execution_count": 3,
   "metadata": {
    "collapsed": true
   },
   "outputs": [],
   "source": [
    "\"\"\"Here is the demonstration code snippet\"\"\"\n",
    "def inCurredSideEffect(self,doctor):\n",
    "        \"\"\"Check for Side effect. If yes, immediate visit doctor to change treatment\"\"\"\n",
    "        SideEffect = 0  \n",
    "        # There will be 'SideEffect' % that patient will incur side effect\n",
    "        if random.uniform(0,1) < self.params['SideEffect']:\n",
    "            self.medicalRecords['TreatmentOverallStatus'] = 1\n",
    "            self.medicalRecords['ContinueTreatment'] = True\n",
    "            #Just call the doctor, no need to check for IOP target\n",
    "            doctor.DoctorModule()\n",
    "            self.monitor.UpdateCurrentMedicationType(self.name,self.medicalRecords)\n",
    "            self.monitor.UpdateOverallStatus(self.name,self.medicalRecords)\n",
    "            SideEffect = 1\n",
    "        \"\"\" Update current QALY according to side effect\"\"\"\n",
    "        self.QALY += (0.88 - 0.101*SideEffect + 0.011*self.Attribute['MD'] - 0.065*self.medicalRecords['Cataract'])*(self.DiscountRate()/12)\n",
    "        \n",
    "        "
   ]
  },
  {
   "cell_type": "markdown",
   "metadata": {},
   "source": [
    "**QALY** needs to be calculated within Side effect method because **QALY** depends on chance of the event that side effect happens. \n",
    "\n",
    "\n",
    "-----------------------------------------------------------------------------------------------------------------\n",
    "Let's call the actual codes from our project and test out `inCurredSideEffect`\n",
    "\n",
    "Since the patient in our system has not visited the doctor (he must have been there in our real simulation system), we will set an arbitrary Side effect % first"
   ]
  },
  {
   "cell_type": "code",
   "execution_count": 19,
   "metadata": {
    "collapsed": false
   },
   "outputs": [
    {
     "name": "stdout",
     "output_type": "stream",
     "text": [
      "Here is our patient's current Side Effect percentage 0.9\n",
      "His current medication type is: 1\n",
      "The reason is because: side effect is 0.0793896424726 currently\n",
      "The patient has his medication changed already due to the Side Effect occurence\n",
      "His current medication type is: 2\n"
     ]
    }
   ],
   "source": [
    "#arbitrary Side effect %\n",
    "patient.params['SideEffect'] = 0.9 \n",
    "print (\"Here is our patient's current Side Effect percentage {}\".format(patient.params['SideEffect']))\n",
    "print (\"His current medication type is: {}\".format(patient.medicalRecords['CurrentMedicationType']))\n",
    "patient.inCurredSideEffect(doctor)\n",
    "if patient.medicalRecords['TreatmentOverallStatus'] == 1:\n",
    "    print (\"This print statement will not be called!\")\n",
    "print (\"The reason is because: side effect is {} currently\".format(patient.params['SideEffect']))\n",
    "print (\"The patient has his medication changed already due to the Side Effect occurence\")\n",
    "print (\"His current medication type is: {}\".format(patient.medicalRecords['CurrentMedicationType']))"
   ]
  },
  {
   "cell_type": "markdown",
   "metadata": {},
   "source": [
    "\n",
    "\n",
    "##2.b. Step 5: `.params_update` method \n",
    "\n",
    "**Logic/Summary**: \n",
    "    1. Check for conversion. If yes, start to decrease MD. Also, increment 'Age' accordingly \n",
    "    2. Check whether the patient is on medication or not. Also whether the patient is on trabeculectomy so as to decrease/increase IOP accordingly\n",
    "    3. If patient is on LTP only, decrease the effectiveness (IOP reduction) accordingly \n",
    "    \n",
    "    \n",
    "The relationship between MD and IOP in van Gestel's model is dictated as follows: \n",
    "\n",
    "**If** IOP > 13: $$Decrease = MDR*1.13^{IOP - 15.5}*months$$\n",
    "\n",
    "**Else**: $$Decrease = 0$$\n",
    "\n"
   ]
  },
  {
   "cell_type": "code",
   "execution_count": null,
   "metadata": {
    "collapsed": true
   },
   "outputs": [],
   "source": [
    "\"\"\"Here is the demonstration code snippets\"\"\"\n",
    "def params_update(self):\n",
    "##1.    \n",
    "        \"\"\"Update current IOP and MD based on medical records\"\"\"\n",
    "        #Update MD \n",
    "        #If there is conversion, then check whether....\n",
    "        if self.params['Conversion'] == True:\n",
    "            #If IOP > 13, then start to decrease MD\n",
    "            if self.Attribute['IOP'] > 13:\n",
    "                difference = self.Attribute['MDR'] *(1.13**(self.Attribute['IOP'] - 15.5))*(self.params['time_next_visit'])\n",
    "            else:\n",
    "                difference = 0\n",
    "            #Cumulative MD reduction. To see whether any progression occurred \n",
    "            self.Attribute['CumulativeMDR'] = self.Attribute['CumulativeMDR'] + difference\n",
    "            self.Attribute['MD'] = self.Attribute['MD'] - difference\n",
    "        self.Attribute['Age'] = self.Attribute['Age'] + self.params['time_next_visit']/12\n",
    "##2.\n",
    "        #Update IOP based on medication/treatment \n",
    "        if  self.medicalRecords['ContinueTreatment'] == False or self.params['IOPReduction'] < 0.001:\n",
    "            self.onNoMedicationOrTrabeculectomy()\n",
    "        if self.medicalRecords['ContinueTreatment'] == True :\n",
    "            self.onMedication()\n",
    "##3. \n",
    "        #If patient is on LTP only, reduce the effective IOP reduction % overtime \n",
    "        if self.medicalRecords['CurrentMedicationType'] == 5 and self.params['IOPReduction'] > 0:\n",
    "            self.params['IOPReduction'] -= self.params['IOPReduction']*(self.params['time_next_visit']/12)"
   ]
  },
  {
   "cell_type": "markdown",
   "metadata": {},
   "source": [
    "MD is directly dependent on IOP only\n",
    "\n",
    "Modification of MD is under 2 different scenarios:\n",
    "\n",
    "* Patient currently on medication\n",
    "* Patient currently on no medication or just after trabeculectomy/implant is performed. \n",
    "\n",
    "The scenario how IOP is updated is determined using attribute `'ContinueTreatment'` under `dictionary` **medicalRecords**\n",
    "\n",
    "--------------------------------------------------------------------------------\n",
    "Now let's check on our real codes, by calling the `params_update` method"
   ]
  },
  {
   "cell_type": "code",
   "execution_count": 20,
   "metadata": {
    "collapsed": false
   },
   "outputs": [
    {
     "name": "stdout",
     "output_type": "stream",
     "text": [
      "Patient's current IOP is 32\n",
      "Patient's current MD is -2.3\n",
      "\n",
      "Patient's current IOP is 29.6213577859\n",
      "Patient's current MD is -2.3\n",
      "Patient's MD should not be decreased now since there is no conversion yet\n"
     ]
    }
   ],
   "source": [
    "print (\"Patient's current IOP is {}\".format(patient.Attribute['IOP']))\n",
    "print (\"Patient's current MD is {}\".format(patient.Attribute['MD']))\n",
    "patient.params_update()\n",
    "print (\"\")\n",
    "print (\"Patient's current IOP is {}\".format(patient.Attribute['IOP']))\n",
    "print (\"Patient's current MD is {}\".format(patient.Attribute['MD']))\n",
    "\n",
    "print (\"Patient's MD should not be decreased now since there is no conversion yet\")"
   ]
  },
  {
   "cell_type": "markdown",
   "metadata": {},
   "source": [
    "\n",
    "##2.c. Step 7: Check for conversion and Cataract\n",
    "\n",
    "In van Gestel's simulation model, patients are all initiated as OHT. There is a **annual** survival probability that the patient would be converted to POAG. This probability is given as $$P = 1 - S =  1 - e^{h_{i}t}$$ \n",
    "where $$h_{i} = 1.26^{\\frac{age - 55}{10}}*1.09^{IOP-24} *0.02$$ and $t$ is the current time in year(s) since patient's entering the system\n",
    "\n",
    "this conversion probability would be run at discrete event during patient's wait before seeing the doctor\n"
   ]
  },
  {
   "cell_type": "code",
   "execution_count": 21,
   "metadata": {
    "collapsed": true
   },
   "outputs": [],
   "source": [
    "\"\"\"Demonstration code snippets\"\"\"\n",
    "def EvaluateConversion (self):\n",
    "        \"\"\"Evaluate survival probability to conversion from OHT to POAG\"\"\"\n",
    "        h = (1.26**((self.Attribute['Age']-55)/10))*(1.09**(self.Attribute['IOP'] - 24))*0.02\n",
    "        prob = 1 - math.exp(-h*self.params['CurrentTime'])\n",
    "        if random.uniform(0,1) < prob:\n",
    "            self.params['Conversion'] = True"
   ]
  },
  {
   "cell_type": "markdown",
   "metadata": {},
   "source": [
    "Let's test our function on the actual patient, using the actual `EvaluateConversion` method"
   ]
  },
  {
   "cell_type": "code",
   "execution_count": 24,
   "metadata": {
    "collapsed": false
   },
   "outputs": [
    {
     "name": "stdout",
     "output_type": "stream",
     "text": [
      "Here is the current conversion status of patient True\n",
      "Let's call params update again\n",
      "Patient's current IOP is 23.4947004617\n",
      "Patient's current MD is -3.09531556212\n",
      "Now MD is decreased\n",
      "50\n"
     ]
    }
   ],
   "source": [
    "\"\"\"Actual project method\"\"\"\n",
    "patient.params['CurrentTime'] = 50\n",
    "patient.EvaluateConversion()\n",
    "print (\"Here is the current conversion status of patient {}\".format(patient.params['Conversion']))\n",
    "print (\"Let's call params update again\")\n",
    "patient.params_update()\n",
    "print (\"Patient's current IOP is {}\".format(patient.Attribute['IOP']))\n",
    "print (\"Patient's current MD is {}\".format(patient.Attribute['MD']))\n",
    "if patient.params['Conversion'] == False:\n",
    "    print (\"Since conversion is False, patient MD has decreased yey\")\n",
    "else:\n",
    "    print (\"Now MD is decreased\")"
   ]
  },
  {
   "cell_type": "markdown",
   "metadata": {},
   "source": [
    "Cataract occurence and removal surgeries would be run from **Cataract** object interface - which is the `InitiateCataract` method \n",
    "\n",
    "`cataract_formation` and `cataract_formation_female` are lists that store the annual incidence rate of patient developing cataract\n",
    "\n",
    "The code snippets should be self-explanatory using the in-line comments"
   ]
  },
  {
   "cell_type": "code",
   "execution_count": 2,
   "metadata": {
    "collapsed": true
   },
   "outputs": [],
   "source": [
    "\"\"\"Below is the sample codes from cataract object - showing InitiateCataract interface\"\"\"\n",
    "def InitiateCataract(self):\n",
    "        key = int((self.Attribute['Age'] -50)/5)\n",
    "        cataractRisk = random.triangular(1.5,2.7,4.9)\n",
    "        \"\"\"This if-else block is to assign the correct incidence cataract rate for the patients\"\"\"\n",
    "        if self.medicalRecords['NumberTrabeculectomy'] == 0:  \n",
    "            if self.Attribute['Gender'] == 1:\n",
    "                if key < 7: \n",
    "                    RateCataract = (cataract_formation[key]/1000)\n",
    "                else:\n",
    "                    RateCataract = (cataract_formation[7]/1000)\n",
    "            else:\n",
    "                if key < 7: \n",
    "                    RateCataract = (cataract_formation_female[key]/1000)\n",
    "                else:\n",
    "                    RateCataract = (cataract_formation_female[7]/1000)\n",
    "        else:\n",
    "            if self.Attribute['Gender'] == 1:\n",
    "                if key < 7: \n",
    "                    RateCataract = (cataract_formation[key]/1000)*cataractRisk\n",
    "                else:\n",
    "                    RateCataract = (cataract_formation[7]/1000)*cataractRisk\n",
    "            else:\n",
    "                if key < 7: \n",
    "                    RateCataract = (cataract_formation_female[key]/1000)*cataractRisk\n",
    "                else:\n",
    "                    RateCataract = (cataract_formation_female[7]/1000)*cataractRisk\n",
    "                    \n",
    "        \"\"\"evaluate cataract incidence\"\"\"            \n",
    "        if random.uniform(0,1) <RateCataract:\n",
    "            self.medicalRecords['Cataract'] = True\n",
    "        \"\"\"evaluate incidence of cataract surgeries\"\"\"\n",
    "        if random.uniform(0,1) < random.beta(123,109) and self.medicalRecords['Cataract'] == True:\n",
    "            self.medicalRecords['SurgeryCataract'] += 1\n",
    "            self.medicalRecords['Cataract'] = False"
   ]
  },
  {
   "cell_type": "markdown",
   "metadata": {},
   "source": [
    "##3. `DoctorClass.py` file\n",
    "\n",
    "This is *Step 2* in the `runSimulation` method of **Patient** object\n",
    "\n",
    "\n",
    "We saw that **Patient** module would call the `.ReturnAllDoctorValues()` methods to update current treatment of the patient.\n",
    "\n",
    "First let's initialize a doctor module from our **actual** project file"
   ]
  },
  {
   "cell_type": "code",
   "execution_count": 8,
   "metadata": {
    "collapsed": true
   },
   "outputs": [],
   "source": [
    "\"\"\"\n",
    "    File: DoctorClass.py \n",
    "    \n",
    "\"\"\"\n",
    "#line 38 \n",
    "def ReturnAllDoctorValues (self):\n",
    "        \"\"\"Main interface of the class\n",
    "        1. Set IOP target, if the time for VF comes\n",
    "        2. Evaluate IOP against target and (possibily) nullfify %side effect\n",
    "        3. Go to meet doctor\n",
    "        \"\"\"\n",
    "        self.IOPTargetSetting()\n",
    "        self.IOPandSideEffectEvaluation()\n",
    "        self.DoctorModule()"
   ]
  },
  {
   "cell_type": "markdown",
   "metadata": {},
   "source": [
    "Let's go through these 3 methods one by one and see their effect on our patient\n",
    "##3.a. `IOPTargetSetting` method \n",
    "\n",
    "Let's first take a look at the demonstration code snippets"
   ]
  },
  {
   "cell_type": "code",
   "execution_count": 3,
   "metadata": {
    "collapsed": false
   },
   "outputs": [],
   "source": [
    "\"\"\"This is the demonstration snippets of code logic\"\"\"\n",
    "def IOPTargetSetting(self):\n",
    "        \"\"\"Check whether its time for VF test. If yes, reevaluate IOP target\"\"\"\n",
    "        if self.params['VFCountdown'] > TimeToVFTest: \n",
    "            self.SetCorrectIOPTarget()\n",
    "            self.medicalRecords['NumberVF'] +=1\n",
    "        self.params['VFCountdown'] = self.params['VFCountdown'] + self.params['time_next_visit']\n",
    "\n"
   ]
  },
  {
   "cell_type": "code",
   "execution_count": 37,
   "metadata": {
    "collapsed": false
   },
   "outputs": [
    {
     "name": "stdout",
     "output_type": "stream",
     "text": [
      " Here is the patient params:    {'SecondProgression': 0, 'SideEffect': 0.07938964247261476, 'Conversion': True, 'IOPReduction': 0.29733027675721835, 'CurrentMonth': 0, 'time_next_visit': 3, 'CurrentTime': 50, 'FirstProgression': 1, 'VFCountdown': 3}\n",
      " Here is the patient Attributes:  {'MD': -4.362102950120095, 'Death': 100, 'CumulativeMDR': 0, 'IOPTarget': 18.0, 'TrabeculectomyIOP': 0, 'MDR': 0.02, 'Gender': 1, 'Age': 69.5, 'IOP': 24.993020631888776}\n",
      "\n",
      "His IOP Target is currently 18.0 as there is IOP Target evaluation yet\n",
      "3\n"
     ]
    }
   ],
   "source": [
    "\"\"\"Here we call the actual doctor to Evaluate IOP Target of our one patient\"\"\"\n",
    "doctor.IOPTargetSetting()\n",
    "print (\" Here is the patient params:    {}\".format(patient.params))\n",
    "print (\" Here is the patient Attributes:  {}\".format(patient.Attribute))\n",
    "patient.Attribute['IOP'] = 27\n",
    "patient.params_update()\n",
    "print (\"\")\n",
    "print (\"His IOP Target is currently {} \".format(patient.Attribute['IOPTarget']))\n",
    "print (patient.params['VFCountdown'])"
   ]
  },
  {
   "cell_type": "markdown",
   "metadata": {},
   "source": [
    "*Some explanation*:\n",
    "\n",
    "As we can see from the `if` condition, when the time comes for VF measurement, the patient's IOP target will be reevaluated using `.SetCorrectIOPTarget` method\n",
    "\n",
    "`.SetCorrectIOPTarget` method would:\n",
    "\n",
    "1. evaluate whether there is any progression (cumulative MD decrement of  `2dB`) from either: \n",
    "    * the start of the simulation \n",
    "    * the lastest progression \n",
    "2. reassign IOP Target according to set-up ( treatment alternatives)\n",
    "\n",
    "We will see how this is done below using the demonstration code snippets"
   ]
  },
  {
   "cell_type": "code",
   "execution_count": 26,
   "metadata": {
    "collapsed": false
   },
   "outputs": [
    {
     "name": "stdout",
     "output_type": "stream",
     "text": [
      "{'MD': -36.449385879379804, 'Death': 100, 'CumulativeMDR': 0, 'IOPTarget': 18.0, 'TrabeculectomyIOP': 0, 'MDR': 3, 'Gender': 1, 'Age': 68.5, 'IOP': 20.791459962771267}\n"
     ]
    }
   ],
   "source": [
    "\"\"\"Here is the demonstration code snippets\"\"\"\n",
    "def SetCorrectIOPTarget(self):\n",
    "#1    \n",
    "        \"\"\"Evaluate for MD progression. Reset IOP target accordingly\"\"\"\n",
    "        #IOP target is reset stepwise if CumulativeMDR is > 2dB\n",
    "        if self.params['FirstProgression'] == 1 and self.PatientAttribute['CumulativeMDR'] > 2: \n",
    "            self.params['SecondProgression'] =1 \n",
    "            #Need to reset CumulativeMDR to reflect van Gestel's definition\n",
    "            self.PatientAttribute['CumulativeMDR'] = 0\n",
    "        elif self.PatientAttribute['CumulativeMDR'] > 2:\n",
    "            self.params['FirstProgression'] = 1\n",
    "            self.PatientAttribute['CumulativeMDR'] = 0\n",
    "            \n",
    "#2            \n",
    "        #if no conversion: IOP target = 24\n",
    "        #conversion occurs: IOP target is set according to progression param\n",
    "        if self.params['Conversion'] == True:\n",
    "            if self.params['FirstProgression'] == 1 and self.params['SecondProgression']  == 1:\n",
    "                self.PatientAttribute['IOPTarget'] = ThirdProgressionTarget\n",
    "            elif self.params['FirstProgression'] == 1:\n",
    "                self.PatientAttribute['IOPTarget'] = SecondProgressionTarget\n",
    "            else:\n",
    "                self.PatientAttribute['IOPTarget'] = FirstProgressionTarget\n",
    "        #Reset VF countdown. Wait till new VF measurement\n",
    "        self.params['VFCountdown'] = 0\n"
   ]
  },
  {
   "cell_type": "markdown",
   "metadata": {},
   "source": [
    "After `IOPTargetSetting` finished reevaluted our `IOP Target`, the patient's IOP is evaluated against the `IOP Target` by calling `IOPandSideEffectEvaluation`. Let's take a look at the code snippets.  \n",
    "\n",
    "##3.b. `IOPandSideEffectEvaluation` method"
   ]
  },
  {
   "cell_type": "code",
   "execution_count": null,
   "metadata": {
    "collapsed": true
   },
   "outputs": [],
   "source": [
    "\"\"\"Here are the code snippets demonstration\"\"\"\n",
    "def IOPandSideEffectEvaluation(self):\n",
    "        \"\"\" Compare IOP against target. Change patient overall status accordingly\"\"\"\n",
    "        if self.medicalRecords['MedicationIntake'] > TimenotSideEffect :\n",
    "            self.params['SideEffect'] = 0\n",
    "        #If patient's IOP > IOP target, set overall status accordingly \n",
    "        #and continue treatment\n",
    "        if self.PatientAttribute['IOP'] > self.PatientAttribute['IOPTarget']:\n",
    "            self.medicalRecords['TreatmentOverallStatus'] = 2\n",
    "            self.medicalRecords['ContinueTreatment'] = True\n",
    "        else:\n",
    "        #discontinue treatment\n",
    "            self.medicalRecords['ContinueTreatment'] =False"
   ]
  },
  {
   "cell_type": "markdown",
   "metadata": {},
   "source": [
    "Let's see how IOP is re-evaluated against the IOP Target:\n"
   ]
  },
  {
   "cell_type": "code",
   "execution_count": 40,
   "metadata": {
    "collapsed": false
   },
   "outputs": [
    {
     "name": "stdout",
     "output_type": "stream",
     "text": [
      "Current patient status is 2, patient is successfully reevaluated\n"
     ]
    }
   ],
   "source": [
    "\"\"\"Here is the actual code run\"\"\"\n",
    "doctor.IOPandSideEffectEvaluation()\n",
    "print (\"Current patient status is {}, patient is successfully reevaluated\".format(patient.medicalRecords['TreatmentOverallStatus']))"
   ]
  },
  {
   "cell_type": "markdown",
   "metadata": {},
   "source": [
    "**Important**: `TreatmentOverallStatus` attribute under **medicalRecords** dictionary is use to direct treatment decisions in the treatment modules - which would be discussed later\n",
    "\n",
    "##3.c `DoctorModule` method\n",
    "\n",
    "**Logic**\n",
    "1. Initialize treatment block and pass patient's parameters for changing. An exit code would be returned. \n",
    "2. Evaluate the exit code. If true, change treatment and re-initialize treatment block again. \n",
    "\n",
    "This is demonstrated using the bwl code snippets"
   ]
  },
  {
   "cell_type": "code",
   "execution_count": null,
   "metadata": {
    "collapsed": true
   },
   "outputs": [],
   "source": [
    "def DoctorModule(self):\n",
    "#1\n",
    "        \"\"\"Initialize and/or change treatment block\"\"\"\n",
    "        self.InitializeCorrectTreatment()\n",
    "#2\n",
    "        #ExitCode will be returned from one of treatment block.\n",
    "        #ExitCode == True means either  \n",
    "        #no more medication left (if in MedicationBlock)\n",
    "        #or IOP > IOP target in surgeries Block (Trabeculectomy/Implant)\n",
    "        if self.medicalRecords['ExitCode'] == True:\n",
    "            self.ChangeTreatmentPlan()\n",
    "            self.InitializeCorrectTreatment()\n",
    "            self.medicalRecords['ExitCode'] = False            \n",
    "        \n",
    "        self.medicalRecords['PatientVisits'] += 1   "
   ]
  },
  {
   "cell_type": "markdown",
   "metadata": {},
   "source": [
    "`InitializeCorrectTreatment` will be  attribute `TreatmentBlock` of dictionary `medicalRecords`\n",
    "\n"
   ]
  },
  {
   "cell_type": "code",
   "execution_count": null,
   "metadata": {
    "collapsed": true
   },
   "outputs": [],
   "source": [
    "\"\"\"Here is the extraction of  InitializeCorrectTreatment\"\"\"\n",
    "def InitializeCorrectTreatment(self):\n",
    "        \"\"\"\n",
    "        Initialize correct treatment block according to \n",
    "        letter block of self.medicalRecords['TreatmentBlock']\n",
    "            A,C,E and G: medication blocks\n",
    "            B and D: trabeculectomy blocks\n",
    "            F : Implant block\n",
    "        order: refer to appendix\n",
    "        \"\"\"\n",
    "        if self.medicalRecords['TreatmentBlock'] == 'A': \n",
    "            block = MedicationBlock(self.params,self.medicalRecords)\n",
    "            block.update()\n",
    "            del block\n",
    "        elif self.medicalRecords['TreatmentBlock'] == 'B':\n",
    "            block = TrabeculectomyBlock(self.PatientAttribute,self.params,self.medicalRecords)\n",
    "            block.update()\n",
    "            del block\n",
    "        elif self.medicalRecords['TreatmentBlock'] == 'C':\n",
    "            block = MedicationBlock(self.params,self.medicalRecords)\n",
    "            block.update()\n",
    "            del block"
   ]
  },
  {
   "cell_type": "markdown",
   "metadata": {},
   "source": [
    "`ChangeTreatmentPlan` will change the block using a look-up table - implemented as Python dictionary called **GraphPlan**\n",
    "\n",
    "Bwl is the treament plan\n",
    "\n",
    "<img src = \"Images/Flow.JPG\">\n"
   ]
  },
  {
   "cell_type": "code",
   "execution_count": null,
   "metadata": {
    "collapsed": true
   },
   "outputs": [],
   "source": [
    "\"\"\"This is the graph plan for the next medication correspoinding to current treatment block\"\"\"\n",
    "GraphPlan = {'A':['B','E'],'B': ['C'],'C':['D','E'],'D':['E'],\n",
    "             'E':['F','G'],'F':['G'],'G':'Terminal'}\n",
    "\n",
    "\n",
    "\"\"\"...................\"\"\"\n",
    "def ChangeTreatmentPlan(self):\n",
    "        \"\"\"Change treatment block to the next treatment block once ExitCode is triggered\"\"\"\n",
    "        \"\"\"\n",
    "        Logic: \n",
    "            if patient is currently on Surgeries, next treatment is medication\n",
    "            if patient is currently on C(medication), next treatment is either \n",
    "                2nd trabeculectomy(block D) if 1st trabeluctomy succeeded\n",
    "                or medication(block E) if 1st trabeculectomy failed\n",
    "            if patient is on medication, surgeries (trabeculectomy or implant)\n",
    "                only occur if self.PatientAttribute['Age'] < AgeNottoSurgery\n",
    "                else, go to a different medication block\n",
    "        \"\"\" \n",
    "        key = self.medicalRecords['TreatmentBlock']\n",
    "        if key == 'B' or key == 'D' or key == 'F':\n",
    "            self.medicalRecords['TreatmentBlock'] = GraphPlan[key][0]\n",
    "        elif key == 'C':\n",
    "            if self.medicalRecords['TrabeculectomySuccess'] == True:\n",
    "                self.medicalRecords['TreatmentBlock'] = GraphPlan[key][0]\n",
    "            else:\n",
    "                self.medicalRecords['TreatmentBlock'] = GraphPlan[key][1]\n",
    "        else:\n",
    "            if self.PatientAttribute['Age'] < AgeNottoSurgery: \n",
    "                self.medicalRecords['TreatmentBlock'] = GraphPlan[key][0]\n",
    "            else:\n",
    "                self.medicalRecords['TreatmentBlock'] = GraphPlan[key][1]"
   ]
  },
  {
   "cell_type": "markdown",
   "metadata": {},
   "source": [
    "The **idea** of this  is first refer to the current treatment block, using **key**. Then, depending on his status, direct the next treatment type."
   ]
  },
  {
   "cell_type": "markdown",
   "metadata": {},
   "source": [
    "##4. Medication Block \n",
    "\n",
    "**Assumption**: Medication only changed when `TreatmentOverallStatus` != 0 (which means there is a special event occuring to patients). Then, method `DoctorPrescription` will be called \n",
    "\n",
    "In van Gestel's paper, patients are indicated medications using a plan as below: \n",
    "<img src = \"Images/Capture.JPG\">\n",
    "\n",
    "The plan is implemented as **binary tree** as at any node, there are two options for patients to take. \n",
    "\n",
    "The tree is a collection of nodes. The node class consists of 3 attributes: `.value`, `.left`, `.right` \n",
    "\n",
    "`.value` will be a list in the form [list,int,list,list] = [medication effectiveness, medication type, medication side effect, medication combination indicator]\n",
    "\n",
    "**Important**: value of each node would be extract and use to set correct parameters for the patient using method **operations**\n",
    "\n",
    "`.left` refers to the **node** object on the left of this current node\n",
    "\n",
    "`.right` refers to the **node** object on the right of that node. \n",
    "\n",
    "The whole medication plan is hard-coded into the **TreatmentTree** please refer to that. \n",
    "\n",
    "Another attribute of interest is `MedicationPath` of dictionary **medicalRecords**\n",
    "\n",
    "             \n",
    "Parameters setting will be done in the method `operations`"
   ]
  },
  {
   "cell_type": "code",
   "execution_count": null,
   "metadata": {
    "collapsed": true
   },
   "outputs": [],
   "source": [
    "def operations(self,tracenode):\n",
    "        \"\"\"\n",
    "        Assign IOP reduction,Current med type, Side Effect and Med combi using\n",
    "            the values from tree node. \n",
    "        \"\"\"\n",
    "        self.params['IOPReduction'] = random.beta(tracenode.value[0][0],tracenode.value[0][1])\n",
    "        self.medicalRecords['CurrentMedicationType'] = tracenode.value[1] \n",
    "        if self.medicalRecords['CurrentMedicationType'] <> 5:\n",
    "            self.params['SideEffect'] = random.beta(tracenode.value[2][0],tracenode.value[2][1])\n",
    "        else:\n",
    "            self.params['SideEffect'] = 0\n",
    "        self.medicalRecords['MedicationCombination'] = tracenode.value[3]"
   ]
  },
  {
   "cell_type": "markdown",
   "metadata": {},
   "source": [
    "###How to trace medication node using `DoctorPrescription` method\n",
    "\n",
    "\n",
    "**Assumptions:** Medication must be changed once patient enters this block\n",
    "#####Basic logic of DoctorPrescription. \n",
    "    If no treatment: \n",
    "        Initialize treatment, set MedicationPath[0] = 1\n",
    "    Else: \n",
    "        Start tracing to the medication node that patient is currently on\n",
    "        If patient is currently not on terminal node:\n",
    "            Evaluate `TreatmentOverallStatus` of dictionary medicalRecords\n",
    "            If TreatmentOverallStatus == SideEffect\n",
    "                Trace to the left node \n",
    "                Set parameters\n",
    "                Set the corresponding MedicationPath index\n",
    "            Else\n",
    "                Trace to the right node\n",
    "                Set parameters\n",
    "                Set the corresponding MedicationPath index\n",
    "         Else: \n",
    "             Exit Code = True, leave medication\n",
    "\n",
    "Now let's look at how some patient with no medication (just start to enter `Medication` block) have his medication changed"
   ]
  },
  {
   "cell_type": "code",
   "execution_count": 5,
   "metadata": {
    "collapsed": false
   },
   "outputs": [],
   "source": [
    "    if False:\n",
    "        \"\"\"Reassign/assign medication to patient when unusual event/no medication yet \"\"\"\n",
    "        tracenode  = node(0)\n",
    "        tracenode = TreatmentTree\n",
    "        # .medicalRecords['MedicationPath'][0] == 0 means no medication assigned yet\n",
    "        if self.medicalRecords['MedicationPath'][0] == 0:\n",
    "            #assign first medication and block\n",
    "            self.medicalRecords['MedicationPath'][0] = 1\n",
    "            self.operations(TreatmentTree)\n",
    "            self.medicalRecords['TreatmentOverallStatus'] = 0\n",
    "            self.medicalRecords['MedicationIntake'] = 0"
   ]
  },
  {
   "cell_type": "markdown",
   "metadata": {},
   "source": [
    "Below is how someone with some medication history has his Medication changed: \n",
    "\n",
    "**First**, check whether patient is on `Medication` type 10, if Yes, Exit immediately"
   ]
  },
  {
   "cell_type": "code",
   "execution_count": null,
   "metadata": {
    "collapsed": true
   },
   "outputs": [],
   "source": [
    "#special case (premature exit), if current medication type (before reassigning) \n",
    "#is 10, Exit \n",
    "#because there is no more medication node to take.\n",
    "if  self.medicalRecords['CurrentMedicationType'] == 10 and self.params['FirstProgression'] == 1:\n",
    "    self.medicalRecords['ExitCode'] = True"
   ]
  },
  {
   "cell_type": "markdown",
   "metadata": {},
   "source": [
    "**After this**, we trace to the current node of medication that patient is on:"
   ]
  },
  {
   "cell_type": "code",
   "execution_count": null,
   "metadata": {
    "collapsed": true
   },
   "outputs": [],
   "source": [
    "#now, trace to the current medication block\n",
    "#while not exhaust all medication nodes on the path or not medication type == 10\n",
    "            while i < 5 and self.medicalRecords['MedicationPath'][i] <> 0 and self.medicalRecords['CurrentMedicationType'] <> 10:  \n",
    "                if self.medicalRecords['MedicationPath'][i] == 1:\n",
    "                    tracenode = tracenode.left\n",
    "                    i = i +1\n",
    "                elif self.medicalRecords['MedicationPath'][i] == 2:\n",
    "                    tracenode = tracenode.right\n",
    "                    i = i+1"
   ]
  },
  {
   "cell_type": "markdown",
   "metadata": {},
   "source": [
    "If this is not the last node on medication block, assign the corresponding medication to patient's `TreatmentOverallStatus`: "
   ]
  },
  {
   "cell_type": "code",
   "execution_count": null,
   "metadata": {
    "collapsed": true
   },
   "outputs": [],
   "source": [
    "#if current medication type (before reassigning) is not the terminal node\n",
    "#first, trace to the next medication node depending on overall status\n",
    "#then reassign .operations(tracenode)\n",
    "            if i < 5 and self.medicalRecords['CurrentMedicationType'] <> 10 :\n",
    "                self.medicalRecords['MedicationPath'][i] = self.medicalRecords['TreatmentOverallStatus']\n",
    "                if self.medicalRecords['TreatmentOverallStatus'] == 1:\n",
    "                    tracenode = tracenode.left\n",
    "                    self.operations(tracenode)\n",
    "                if self.medicalRecords['TreatmentOverallStatus'] == 2:\n",
    "                    tracenode = tracenode.right\n",
    "                    self.operations(tracenode)"
   ]
  },
  {
   "cell_type": "markdown",
   "metadata": {},
   "source": [
    "If patient is currently on the last node of his path (befor having his medication changed), **Exit**"
   ]
  },
  {
   "cell_type": "code",
   "execution_count": null,
   "metadata": {
    "collapsed": true
   },
   "outputs": [],
   "source": [
    "#if current medication type (before reassigning) is the terminal node\n",
    "if i == 5 and self.params['FirstProgression'] == 1:\n",
    "    self.medicalRecords['ExitCode'] = True\n",
    "    self.ResetMedicationPath()"
   ]
  },
  {
   "cell_type": "markdown",
   "metadata": {},
   "source": [
    "Finally, before patient leaves the `DoctorPrescription` method, reset the two attributes below to indicate that patient is on a new, fresh type of medication"
   ]
  },
  {
   "cell_type": "code",
   "execution_count": null,
   "metadata": {
    "collapsed": true
   },
   "outputs": [],
   "source": [
    "#Reset status variables\n",
    "self.medicalRecords['TreatmentOverallStatus'] = 0\n",
    "self.medicalRecords['MedicationIntake'] = 0"
   ]
  },
  {
   "cell_type": "markdown",
   "metadata": {},
   "source": [
    "Here is how the actual codes will work "
   ]
  },
  {
   "cell_type": "code",
   "execution_count": 9,
   "metadata": {
    "collapsed": false
   },
   "outputs": [
    {
     "name": "stdout",
     "output_type": "stream",
     "text": [
      "Current medication type is 1\n",
      "Current medication type is 1\n"
     ]
    }
   ],
   "source": [
    "\"\"\"Here is the actual project codes\"\"\"\n",
    "from MedicationBlockClass import MedicationBlock\n",
    "print (\"Current medication type is {}\".format(patient.medicalRecords['CurrentMedicationType']))\n",
    "block = MedicationBlock(patient.params,patient.medicalRecords)\n",
    "block.DoctorPrescription()\n",
    "print (\"Current medication type is {}\".format(patient.medicalRecords['CurrentMedicationType']))\n"
   ]
  },
  {
   "cell_type": "markdown",
   "metadata": {},
   "source": [
    "The above block of codes will not change `CurrentMedicationType` of the patient as there is no special event that change the `TreatmentOverallStatus` attribute. \n",
    "\n",
    "Here is how `DoctorPrescription` would change the medication type."
   ]
  },
  {
   "cell_type": "code",
   "execution_count": 15,
   "metadata": {
    "collapsed": false
   },
   "outputs": [],
   "source": [
    "patient.medicalRecords['TreatmentOverallStatus'] = 1\n",
    "\n"
   ]
  },
  {
   "cell_type": "markdown",
   "metadata": {},
   "source": [
    "Now then we would see the change in medication type\n"
   ]
  },
  {
   "cell_type": "code",
   "execution_count": 19,
   "metadata": {
    "collapsed": false
   },
   "outputs": [
    {
     "name": "stdout",
     "output_type": "stream",
     "text": [
      "Current medication type is 5\n"
     ]
    }
   ],
   "source": [
    "block.DoctorPrescription()\n",
    "print (\"Current medication type is {}\".format(patient.medicalRecords['CurrentMedicationType']))"
   ]
  },
  {
   "cell_type": "markdown",
   "metadata": {},
   "source": [
    "###Set number of visits\n",
    "\n",
    "Number of visits would depend on `CurrentMedicationIntake` of dictionary `medicalRecords`"
   ]
  },
  {
   "cell_type": "code",
   "execution_count": null,
   "metadata": {
    "collapsed": true
   },
   "outputs": [],
   "source": [
    "def SetTimeNextVisit(self):\n",
    "    \"\"\"Set next time to visit doctor for patients on medication block\"\"\"\n",
    "    if self.medicalRecords['MedicationIntake'] == 0:\n",
    "        self.params['time_next_visit'] = 3\n",
    "    else:\n",
    "        self.params['time_next_visit'] = 6"
   ]
  },
  {
   "cell_type": "markdown",
   "metadata": {},
   "source": [
    "##5. `Trabeculectomy` and `Implant` objects\n",
    "\n",
    "These two objects are almost the same and quite simple.\n",
    "\n",
    "The interface of the objects are `.update` method \n",
    "\n",
    "**Logic**\n",
    "\n",
    "    If have not been operated yet\n",
    "        .SurgeryTE (operating TE)\n",
    "    Else: \n",
    "        Set number of months till next visit\n",
    "        \n",
    "    Check whether IOP > IOP target. If yes, leave the module"
   ]
  },
  {
   "cell_type": "code",
   "execution_count": null,
   "metadata": {
    "collapsed": true
   },
   "outputs": [],
   "source": [
    "    def update(self):\n",
    "        \"\"\"\n",
    "        Interface: \n",
    "        After trabeculectomy is done, nothing is done besides set number of visit\n",
    "        until IOP > IOP target\n",
    "        \"\"\"\n",
    "        if self.medicalRecords['OnTrabeculectomy'] == False:\n",
    "            self.SurgeryTE()\n",
    "        else:\n",
    "            self.SetNumberofVisits()\n",
    "        #Check whether IOP > IOP target yet. Then evaluate whether to leave the block    \n",
    "        self.DeterminetoExitTEblock()"
   ]
  },
  {
   "cell_type": "markdown",
   "metadata": {},
   "source": [
    "Here is how Trabeculectomy is operated. Patient's `IOP` would be reset using a `normal` distribution. Other parameters are the various \"house-keeping\" variables"
   ]
  },
  {
   "cell_type": "code",
   "execution_count": null,
   "metadata": {
    "collapsed": true
   },
   "outputs": [],
   "source": [
    "def SurgeryTE(self):\n",
    "    #reassign the IOP based on the normal distribution reported by van Gestel\n",
    "    self.Attribute['IOP'] = random.normal(12.5,0.3)\n",
    "    self.medicalRecords['ContinueTreatment'] = False\n",
    "    self.medicalRecords['OnTrabeculectomy'] = True\n",
    "    self.medicalRecords['MedicationIntake'] = 0\n",
    "    self.medicalRecords['NumberTrabeculectomy'] +=1\n",
    "    self.medicalRecords['CurrentMedicationType'] = 30\n",
    "    self.medicalRecords['TreatmentOverallStatus'] = 0\n",
    "    #nullify any side effect left as patients no longer on medication\n",
    "    self.params['SideEffect'] = 0"
   ]
  },
  {
   "cell_type": "markdown",
   "metadata": {},
   "source": [
    "**Implant** object is inherited from Trabeculectomy (to share the `.SetNumberofVisits` method) and share the same structure "
   ]
  },
  {
   "cell_type": "code",
   "execution_count": 14,
   "metadata": {
    "collapsed": false
   },
   "outputs": [
    {
     "name": "stdout",
     "output_type": "stream",
     "text": [
      "{'MD': -2.3, 'Death': 100, 'CumulativeMDR': 0, 'IOPTarget': 24, 'TrabeculectomyIOP': 0, 'MDR': 3, 'Gender': 1, 'Age': 67.75, 'IOP': 22.356061625644106}\n",
      "{'SecondProgression': 0, 'SideEffect': 0.12151103754432913, 'Conversion': False, 'IOPReduction': 0.28201431593993515, 'CurrentMonth': 0, 'time_next_visit': 6, 'CurrentTime': 0, 'FirstProgression': 0, 'VFCountdown': 12}\n",
      "{'TreatmentBlock': 'A', 'Diagnosed': False, 'CurrentMedicationType': 1, 'OnTrabeculectomy': False, 'SurgeryCataract': 0, 'MedicationIntake': 2, 'NumberTrabeculectomy': 0, 'MedicationCombination': [1, 0, 0, 0, 0], 'NumberVF': 1, 'ImplantSuccess': True, 'TreatmentOverallStatus': 2, 'TrabeculectomySuccess': True, 'PatientVisits': 3, 'MedicationPath': [1, 0, 0, 0, 0], 'Cataract': False, 'ContinueTreatment': True, 'OnImplant': False, 'ExitCode': False}\n"
     ]
    }
   ],
   "source": [
    "from DoctorClass import Doctor\n",
    "doctor = Doctor(patient.Attribute,patient.params,patient.medicalRecords)\n",
    "doctor.ReturnAllDoctorValues()\n",
    "patient.params_update()\n",
    "print (patient.Attribute)\n",
    "print (patient.params)\n",
    "print (patient.medicalRecords)"
   ]
  }
 ],
 "metadata": {
  "kernelspec": {
   "display_name": "Python 2",
   "language": "python",
   "name": "python2"
  },
  "language_info": {
   "codemirror_mode": {
    "name": "ipython",
    "version": 2
   },
   "file_extension": ".py",
   "mimetype": "text/x-python",
   "name": "python",
   "nbconvert_exporter": "python",
   "pygments_lexer": "ipython2",
   "version": "2.7.9"
  }
 },
 "nbformat": 4,
 "nbformat_minor": 0
}
